{
 "cells": [
  {
   "cell_type": "code",
   "execution_count": 7,
   "metadata": {},
   "outputs": [],
   "source": [
    "import numpy as np\n",
    "from numpy import genfromtxt"
   ]
  },
  {
   "cell_type": "code",
   "execution_count": 10,
   "metadata": {},
   "outputs": [],
   "source": [
    "data=genfromtxt('../DATA/bank_note_data.txt',delimiter=',')\n"
   ]
  },
  {
   "cell_type": "code",
   "execution_count": 11,
   "metadata": {},
   "outputs": [
    {
     "data": {
      "text/plain": [
       "array([[  3.6216 ,   8.6661 ,  -2.8073 ,  -0.44699,   0.     ],\n",
       "       [  4.5459 ,   8.1674 ,  -2.4586 ,  -1.4621 ,   0.     ],\n",
       "       [  3.866  ,  -2.6383 ,   1.9242 ,   0.10645,   0.     ],\n",
       "       ...,\n",
       "       [ -3.7503 , -13.4586 ,  17.5932 ,  -2.7771 ,   1.     ],\n",
       "       [ -3.5637 ,  -8.3827 ,  12.393  ,  -1.2823 ,   1.     ],\n",
       "       [ -2.5419 ,  -0.65804,   2.6842 ,   1.1952 ,   1.     ]])"
      ]
     },
     "execution_count": 11,
     "metadata": {},
     "output_type": "execute_result"
    }
   ],
   "source": [
    "data"
   ]
  },
  {
   "cell_type": "code",
   "execution_count": 12,
   "metadata": {},
   "outputs": [],
   "source": [
    "labels=data[:,4]\n",
    "#use of this is to get the labels of the data and store it in the labels variable that will be used later on in the code for the training and testing of the data as our label variables tell use about the class of the data and we have used ,4 in the columns so as to get the 4th column of the data as the labels of the data"
   ]
  },
  {
   "cell_type": "code",
   "execution_count": 13,
   "metadata": {},
   "outputs": [
    {
     "data": {
      "text/plain": [
       "array([0., 0., 0., ..., 1., 1., 1.])"
      ]
     },
     "execution_count": 13,
     "metadata": {},
     "output_type": "execute_result"
    }
   ],
   "source": [
    "labels"
   ]
  },
  {
   "cell_type": "code",
   "execution_count": 14,
   "metadata": {},
   "outputs": [],
   "source": [
    "features=data[:,0:4]\n"
   ]
  },
  {
   "cell_type": "code",
   "execution_count": 15,
   "metadata": {},
   "outputs": [],
   "source": [
    "X=features\n",
    "y=labels"
   ]
  },
  {
   "cell_type": "code",
   "execution_count": 16,
   "metadata": {},
   "outputs": [],
   "source": [
    "from sklearn.model_selection import train_test_split\n"
   ]
  },
  {
   "cell_type": "code",
   "execution_count": 17,
   "metadata": {},
   "outputs": [],
   "source": [
    "X_train,X_test,y_train,y_test=train_test_split(X,y,test_size=0.30,random_state=42)"
   ]
  },
  {
   "cell_type": "code",
   "execution_count": 19,
   "metadata": {},
   "outputs": [
    {
     "data": {
      "text/plain": [
       "960"
      ]
     },
     "execution_count": 19,
     "metadata": {},
     "output_type": "execute_result"
    }
   ],
   "source": [
    "len(X_train)"
   ]
  },
  {
   "cell_type": "code",
   "execution_count": 20,
   "metadata": {},
   "outputs": [
    {
     "data": {
      "text/plain": [
       "array([1., 1., 0., 1., 0., 1., 0., 0., 0., 1., 1., 0., 0., 0., 1., 0., 0.,\n",
       "       1., 0., 0., 0., 0., 1., 0., 1., 0., 0., 1., 0., 0., 0., 0., 0., 0.,\n",
       "       1., 1., 0., 0., 0., 0., 0., 1., 1., 0., 1., 0., 0., 1., 0., 0., 1.,\n",
       "       0., 0., 0., 1., 1., 1., 0., 1., 1., 1., 0., 1., 1., 1., 0., 1., 0.,\n",
       "       0., 1., 0., 0., 0., 1., 0., 1., 0., 0., 0., 0., 1., 1., 0., 0., 1.,\n",
       "       0., 0., 1., 1., 1., 0., 0., 0., 1., 1., 1., 1., 1., 1., 1., 0., 0.,\n",
       "       0., 0., 0., 0., 1., 0., 1., 0., 0., 0., 0., 1., 1., 0., 1., 1., 0.,\n",
       "       1., 0., 1., 1., 1., 1., 1., 1., 1., 1., 1., 1., 1., 0., 1., 0., 0.,\n",
       "       0., 0., 1., 1., 1., 0., 0., 0., 1., 0., 1., 1., 1., 1., 0., 0., 0.,\n",
       "       0., 0., 0., 0., 0., 0., 0., 0., 0., 0., 1., 1., 0., 1., 0., 1., 0.,\n",
       "       0., 0., 0., 0., 1., 1., 0., 0., 0., 0., 0., 0., 0., 0., 0., 0., 0.,\n",
       "       1., 1., 0., 1., 0., 0., 1., 1., 0., 1., 0., 0., 1., 0., 1., 1., 0.,\n",
       "       0., 0., 0., 0., 0., 1., 0., 0., 0., 1., 1., 0., 1., 1., 1., 1., 1.,\n",
       "       0., 1., 1., 0., 0., 1., 1., 0., 1., 1., 0., 1., 1., 0., 0., 0., 0.,\n",
       "       1., 0., 0., 1., 0., 1., 0., 0., 1., 0., 0., 1., 1., 0., 0., 1., 1.,\n",
       "       0., 1., 1., 1., 0., 0., 0., 1., 0., 0., 1., 0., 0., 0., 1., 0., 0.,\n",
       "       1., 0., 1., 0., 0., 0., 0., 0., 1., 1., 0., 0., 1., 0., 0., 1., 0.,\n",
       "       0., 1., 0., 1., 1., 1., 0., 1., 0., 0., 0., 1., 0., 0., 1., 1., 1.,\n",
       "       0., 1., 0., 1., 1., 0., 0., 1., 1., 1., 1., 0., 0., 1., 0., 1., 0.,\n",
       "       1., 0., 0., 0., 1., 0., 1., 1., 0., 0., 1., 0., 1., 0., 1., 0., 1.,\n",
       "       0., 0., 0., 0., 1., 0., 1., 1., 1., 1., 1., 1., 0., 0., 0., 1., 0.,\n",
       "       0., 0., 1., 0., 1., 0., 0., 0., 0., 0., 1., 0., 1., 1., 0., 1., 0.,\n",
       "       0., 1., 0., 0., 0., 0., 0., 0., 1., 1., 1., 0., 1., 0., 0., 0., 1.,\n",
       "       1., 0., 0., 1., 0., 1., 0., 0., 0., 0., 0., 0., 1., 1., 1., 0., 0.,\n",
       "       0., 0., 0., 0., 1., 1., 1., 0., 0., 0., 1., 1., 1., 1., 0., 0., 1.,\n",
       "       0., 0., 0., 1., 0., 0., 1., 0., 0., 0., 1., 0., 0., 1., 1., 0., 1.,\n",
       "       0., 0., 0., 1., 1., 0., 1., 0., 0., 1., 0., 0., 1., 0., 1., 1., 0.,\n",
       "       1., 0., 0., 0., 0., 1., 0., 0., 0., 1., 0., 0., 0., 0., 0., 1., 1.,\n",
       "       0., 1., 0., 0., 0., 0., 0., 0., 1., 0., 1., 1., 1., 0., 0., 1., 1.,\n",
       "       1., 1., 0., 0., 1., 0., 0., 1., 0., 0., 0., 1., 0., 1., 0., 0., 0.,\n",
       "       1., 0., 0., 1., 1., 1., 1., 0., 1., 1., 0., 1., 0., 1., 0., 0., 0.,\n",
       "       1., 0., 1., 1., 1., 1., 0., 0., 1., 0., 1., 0., 0., 0., 0., 0., 0.,\n",
       "       1., 1., 0., 1., 0., 0., 1., 0., 1., 0., 1., 1., 1., 0., 1., 0., 1.,\n",
       "       1., 0., 0., 0., 0., 1., 0., 0., 1., 1., 1., 1., 0., 0., 0., 0., 0.,\n",
       "       1., 1., 0., 0., 1., 0., 0., 0., 1., 1., 0., 0., 0., 1., 1., 1., 1.,\n",
       "       0., 1., 1., 0., 0., 0., 1., 1., 0., 0., 1., 1., 0., 0., 1., 0., 0.,\n",
       "       0., 0., 0., 0., 1., 1., 1., 0., 1., 1., 1., 1., 0., 1., 0., 1., 1.,\n",
       "       0., 1., 1., 1., 0., 1., 0., 0., 0., 0., 1., 0., 1., 0., 1., 0., 0.,\n",
       "       0., 0., 0., 0., 0., 1., 1., 1., 0., 1., 0., 0., 1., 0., 1., 0., 0.,\n",
       "       1., 1., 0., 0., 0., 1., 0., 0., 1., 1., 1., 0., 1., 1., 0., 0., 0.,\n",
       "       0., 1., 1., 1., 0., 1., 0., 0., 0., 1., 0., 0., 1., 1., 1., 1., 1.,\n",
       "       0., 1., 0., 0., 0., 1., 0., 0., 0., 1., 0., 1., 1., 0., 1., 0., 1.,\n",
       "       1., 1., 1., 0., 1., 1., 1., 1., 1., 0., 1., 0., 1., 1., 0., 0., 1.,\n",
       "       0., 0., 0., 0., 1., 1., 0., 1., 1., 0., 0., 1., 1., 1., 1., 0., 0.,\n",
       "       1., 0., 0., 0., 0., 1., 1., 0., 1., 0., 1., 0., 0., 1., 1., 0., 0.,\n",
       "       0., 1., 0., 0., 0., 1., 0., 1., 0., 0., 1., 0., 0., 0., 1., 0., 1.,\n",
       "       1., 1., 0., 1., 0., 0., 0., 0., 0., 1., 1., 1., 1., 0., 1., 0., 1.,\n",
       "       0., 0., 0., 1., 0., 0., 1., 1., 1., 0., 1., 0., 0., 0., 1., 1., 0.,\n",
       "       1., 0., 1., 0., 1., 0., 0., 1., 0., 0., 1., 1., 1., 0., 0., 1., 1.,\n",
       "       0., 1., 1., 1., 1., 0., 0., 1., 0., 0., 0., 1., 0., 0., 1., 1., 1.,\n",
       "       1., 0., 0., 1., 0., 1., 0., 0., 0., 0., 0., 0., 1., 1., 0., 1., 0.,\n",
       "       0., 0., 1., 1., 0., 0., 0., 1., 0., 1., 1., 1., 0., 0., 0., 1., 1.,\n",
       "       0., 1., 1., 0., 1., 0., 0., 0., 0., 0., 1., 0., 1., 1., 1., 0., 0.,\n",
       "       1., 0., 1., 0., 1., 0., 1., 0., 0., 0., 0., 0., 1., 0., 1., 0., 0.,\n",
       "       1., 1., 1., 0., 1., 0., 1., 0., 1., 0., 0., 1., 0., 1., 0., 0., 0.,\n",
       "       1., 0., 1., 0., 1., 1., 0., 1., 0., 1., 1., 0., 1., 1., 0., 0., 1.,\n",
       "       0., 0., 1., 1., 1., 1., 1., 1.])"
      ]
     },
     "execution_count": 20,
     "metadata": {},
     "output_type": "execute_result"
    }
   ],
   "source": [
    "y_train"
   ]
  },
  {
   "cell_type": "code",
   "execution_count": 21,
   "metadata": {},
   "outputs": [],
   "source": [
    "from sklearn.preprocessing import MinMaxScaler"
   ]
  },
  {
   "cell_type": "code",
   "execution_count": 22,
   "metadata": {},
   "outputs": [],
   "source": [
    "scaler_object=MinMaxScaler()\n"
   ]
  },
  {
   "cell_type": "code",
   "execution_count": 24,
   "metadata": {},
   "outputs": [
    {
     "data": {
      "text/html": [
       "<style>#sk-container-id-2 {color: black;background-color: white;}#sk-container-id-2 pre{padding: 0;}#sk-container-id-2 div.sk-toggleable {background-color: white;}#sk-container-id-2 label.sk-toggleable__label {cursor: pointer;display: block;width: 100%;margin-bottom: 0;padding: 0.3em;box-sizing: border-box;text-align: center;}#sk-container-id-2 label.sk-toggleable__label-arrow:before {content: \"▸\";float: left;margin-right: 0.25em;color: #696969;}#sk-container-id-2 label.sk-toggleable__label-arrow:hover:before {color: black;}#sk-container-id-2 div.sk-estimator:hover label.sk-toggleable__label-arrow:before {color: black;}#sk-container-id-2 div.sk-toggleable__content {max-height: 0;max-width: 0;overflow: hidden;text-align: left;background-color: #f0f8ff;}#sk-container-id-2 div.sk-toggleable__content pre {margin: 0.2em;color: black;border-radius: 0.25em;background-color: #f0f8ff;}#sk-container-id-2 input.sk-toggleable__control:checked~div.sk-toggleable__content {max-height: 200px;max-width: 100%;overflow: auto;}#sk-container-id-2 input.sk-toggleable__control:checked~label.sk-toggleable__label-arrow:before {content: \"▾\";}#sk-container-id-2 div.sk-estimator input.sk-toggleable__control:checked~label.sk-toggleable__label {background-color: #d4ebff;}#sk-container-id-2 div.sk-label input.sk-toggleable__control:checked~label.sk-toggleable__label {background-color: #d4ebff;}#sk-container-id-2 input.sk-hidden--visually {border: 0;clip: rect(1px 1px 1px 1px);clip: rect(1px, 1px, 1px, 1px);height: 1px;margin: -1px;overflow: hidden;padding: 0;position: absolute;width: 1px;}#sk-container-id-2 div.sk-estimator {font-family: monospace;background-color: #f0f8ff;border: 1px dotted black;border-radius: 0.25em;box-sizing: border-box;margin-bottom: 0.5em;}#sk-container-id-2 div.sk-estimator:hover {background-color: #d4ebff;}#sk-container-id-2 div.sk-parallel-item::after {content: \"\";width: 100%;border-bottom: 1px solid gray;flex-grow: 1;}#sk-container-id-2 div.sk-label:hover label.sk-toggleable__label {background-color: #d4ebff;}#sk-container-id-2 div.sk-serial::before {content: \"\";position: absolute;border-left: 1px solid gray;box-sizing: border-box;top: 0;bottom: 0;left: 50%;z-index: 0;}#sk-container-id-2 div.sk-serial {display: flex;flex-direction: column;align-items: center;background-color: white;padding-right: 0.2em;padding-left: 0.2em;position: relative;}#sk-container-id-2 div.sk-item {position: relative;z-index: 1;}#sk-container-id-2 div.sk-parallel {display: flex;align-items: stretch;justify-content: center;background-color: white;position: relative;}#sk-container-id-2 div.sk-item::before, #sk-container-id-2 div.sk-parallel-item::before {content: \"\";position: absolute;border-left: 1px solid gray;box-sizing: border-box;top: 0;bottom: 0;left: 50%;z-index: -1;}#sk-container-id-2 div.sk-parallel-item {display: flex;flex-direction: column;z-index: 1;position: relative;background-color: white;}#sk-container-id-2 div.sk-parallel-item:first-child::after {align-self: flex-end;width: 50%;}#sk-container-id-2 div.sk-parallel-item:last-child::after {align-self: flex-start;width: 50%;}#sk-container-id-2 div.sk-parallel-item:only-child::after {width: 0;}#sk-container-id-2 div.sk-dashed-wrapped {border: 1px dashed gray;margin: 0 0.4em 0.5em 0.4em;box-sizing: border-box;padding-bottom: 0.4em;background-color: white;}#sk-container-id-2 div.sk-label label {font-family: monospace;font-weight: bold;display: inline-block;line-height: 1.2em;}#sk-container-id-2 div.sk-label-container {text-align: center;}#sk-container-id-2 div.sk-container {/* jupyter's `normalize.less` sets `[hidden] { display: none; }` but bootstrap.min.css set `[hidden] { display: none !important; }` so we also need the `!important` here to be able to override the default hidden behavior on the sphinx rendered scikit-learn.org. See: https://github.com/scikit-learn/scikit-learn/issues/21755 */display: inline-block !important;position: relative;}#sk-container-id-2 div.sk-text-repr-fallback {display: none;}</style><div id=\"sk-container-id-2\" class=\"sk-top-container\"><div class=\"sk-text-repr-fallback\"><pre>MinMaxScaler()</pre><b>In a Jupyter environment, please rerun this cell to show the HTML representation or trust the notebook. <br />On GitHub, the HTML representation is unable to render, please try loading this page with nbviewer.org.</b></div><div class=\"sk-container\" hidden><div class=\"sk-item\"><div class=\"sk-estimator sk-toggleable\"><input class=\"sk-toggleable__control sk-hidden--visually\" id=\"sk-estimator-id-2\" type=\"checkbox\" checked><label for=\"sk-estimator-id-2\" class=\"sk-toggleable__label sk-toggleable__label-arrow\">MinMaxScaler</label><div class=\"sk-toggleable__content\"><pre>MinMaxScaler()</pre></div></div></div></div></div>"
      ],
      "text/plain": [
       "MinMaxScaler()"
      ]
     },
     "execution_count": 24,
     "metadata": {},
     "output_type": "execute_result"
    }
   ],
   "source": [
    "scaler_object.fit(X_train)"
   ]
  },
  {
   "cell_type": "code",
   "execution_count": 26,
   "metadata": {},
   "outputs": [],
   "source": [
    "scaled_X_train=scaler_object.transform(X_train)"
   ]
  },
  {
   "cell_type": "code",
   "execution_count": 42,
   "metadata": {},
   "outputs": [],
   "source": [
    "scaled_X_test=scaler_object.transform(X_test)"
   ]
  },
  {
   "cell_type": "code",
   "execution_count": 28,
   "metadata": {},
   "outputs": [
    {
     "data": {
      "text/plain": [
       "1.0000000000000002"
      ]
     },
     "execution_count": 28,
     "metadata": {},
     "output_type": "execute_result"
    }
   ],
   "source": [
    "scaled_X_train.max()"
   ]
  },
  {
   "cell_type": "code",
   "execution_count": 33,
   "metadata": {},
   "outputs": [
    {
     "name": "stdout",
     "output_type": "stream",
     "text": [
      "Defaulting to user installation because normal site-packages is not writeable\n",
      "Requirement already satisfied: keras in c:\\users\\hp\\appdata\\roaming\\python\\python311\\site-packages (3.5.0)\n",
      "Requirement already satisfied: absl-py in c:\\users\\hp\\appdata\\roaming\\python\\python311\\site-packages (from keras) (2.1.0)\n",
      "Requirement already satisfied: numpy in c:\\users\\hp\\appdata\\roaming\\python\\python311\\site-packages (from keras) (1.25.2)\n",
      "Requirement already satisfied: rich in c:\\users\\hp\\appdata\\roaming\\python\\python311\\site-packages (from keras) (13.7.1)\n",
      "Requirement already satisfied: namex in c:\\users\\hp\\appdata\\roaming\\python\\python311\\site-packages (from keras) (0.0.8)\n",
      "Requirement already satisfied: h5py in c:\\users\\hp\\appdata\\roaming\\python\\python311\\site-packages (from keras) (3.11.0)\n",
      "Requirement already satisfied: optree in c:\\users\\hp\\appdata\\roaming\\python\\python311\\site-packages (from keras) (0.12.1)\n",
      "Requirement already satisfied: ml-dtypes in c:\\users\\hp\\appdata\\roaming\\python\\python311\\site-packages (from keras) (0.4.0)\n",
      "Requirement already satisfied: packaging in c:\\users\\hp\\appdata\\roaming\\python\\python311\\site-packages (from keras) (23.2)\n",
      "Requirement already satisfied: typing-extensions>=4.5.0 in c:\\users\\hp\\appdata\\roaming\\python\\python311\\site-packages (from optree->keras) (4.9.0)\n",
      "Requirement already satisfied: markdown-it-py>=2.2.0 in c:\\users\\hp\\appdata\\roaming\\python\\python311\\site-packages (from rich->keras) (3.0.0)\n",
      "Requirement already satisfied: pygments<3.0.0,>=2.13.0 in c:\\users\\hp\\appdata\\roaming\\python\\python311\\site-packages (from rich->keras) (2.17.2)\n",
      "Requirement already satisfied: mdurl~=0.1 in c:\\users\\hp\\appdata\\roaming\\python\\python311\\site-packages (from markdown-it-py>=2.2.0->rich->keras) (0.1.2)\n"
     ]
    },
    {
     "name": "stderr",
     "output_type": "stream",
     "text": [
      "DEPRECATION: Loading egg at c:\\program files\\python311\\lib\\site-packages\\vboxapi-1.0-py3.11.egg is deprecated. pip 24.3 will enforce this behaviour change. A possible replacement is to use pip for package installation.. Discussion can be found at https://github.com/pypa/pip/issues/12330\n",
      "\n",
      "[notice] A new release of pip is available: 23.3.2 -> 24.2\n",
      "[notice] To update, run: python.exe -m pip install --upgrade pip\n"
     ]
    }
   ],
   "source": [
    "!pip install keras"
   ]
  },
  {
   "cell_type": "code",
   "execution_count": 34,
   "metadata": {},
   "outputs": [
    {
     "name": "stdout",
     "output_type": "stream",
     "text": [
      "Defaulting to user installation because normal site-packages is not writeable\n",
      "Requirement already satisfied: tensorflow in c:\\users\\hp\\appdata\\roaming\\python\\python311\\site-packages (2.17.0)\n",
      "Requirement already satisfied: tensorflow-intel==2.17.0 in c:\\users\\hp\\appdata\\roaming\\python\\python311\\site-packages (from tensorflow) (2.17.0)\n",
      "Requirement already satisfied: absl-py>=1.0.0 in c:\\users\\hp\\appdata\\roaming\\python\\python311\\site-packages (from tensorflow-intel==2.17.0->tensorflow) (2.1.0)\n",
      "Requirement already satisfied: astunparse>=1.6.0 in c:\\users\\hp\\appdata\\roaming\\python\\python311\\site-packages (from tensorflow-intel==2.17.0->tensorflow) (1.6.3)\n",
      "Requirement already satisfied: flatbuffers>=24.3.25 in c:\\users\\hp\\appdata\\roaming\\python\\python311\\site-packages (from tensorflow-intel==2.17.0->tensorflow) (24.3.25)\n",
      "Requirement already satisfied: gast!=0.5.0,!=0.5.1,!=0.5.2,>=0.2.1 in c:\\users\\hp\\appdata\\roaming\\python\\python311\\site-packages (from tensorflow-intel==2.17.0->tensorflow) (0.6.0)\n",
      "Requirement already satisfied: google-pasta>=0.1.1 in c:\\users\\hp\\appdata\\roaming\\python\\python311\\site-packages (from tensorflow-intel==2.17.0->tensorflow) (0.2.0)\n",
      "Requirement already satisfied: h5py>=3.10.0 in c:\\users\\hp\\appdata\\roaming\\python\\python311\\site-packages (from tensorflow-intel==2.17.0->tensorflow) (3.11.0)\n",
      "Requirement already satisfied: libclang>=13.0.0 in c:\\users\\hp\\appdata\\roaming\\python\\python311\\site-packages (from tensorflow-intel==2.17.0->tensorflow) (18.1.1)\n",
      "Requirement already satisfied: ml-dtypes<0.5.0,>=0.3.1 in c:\\users\\hp\\appdata\\roaming\\python\\python311\\site-packages (from tensorflow-intel==2.17.0->tensorflow) (0.4.0)\n",
      "Requirement already satisfied: opt-einsum>=2.3.2 in c:\\users\\hp\\appdata\\roaming\\python\\python311\\site-packages (from tensorflow-intel==2.17.0->tensorflow) (3.3.0)\n",
      "Requirement already satisfied: packaging in c:\\users\\hp\\appdata\\roaming\\python\\python311\\site-packages (from tensorflow-intel==2.17.0->tensorflow) (23.2)\n",
      "Requirement already satisfied: protobuf!=4.21.0,!=4.21.1,!=4.21.2,!=4.21.3,!=4.21.4,!=4.21.5,<5.0.0dev,>=3.20.3 in c:\\users\\hp\\appdata\\roaming\\python\\python311\\site-packages (from tensorflow-intel==2.17.0->tensorflow) (4.25.4)\n",
      "Requirement already satisfied: requests<3,>=2.21.0 in c:\\users\\hp\\appdata\\roaming\\python\\python311\\site-packages (from tensorflow-intel==2.17.0->tensorflow) (2.31.0)\n",
      "Requirement already satisfied: setuptools in c:\\program files\\python311\\lib\\site-packages (from tensorflow-intel==2.17.0->tensorflow) (65.5.0)\n",
      "Requirement already satisfied: six>=1.12.0 in c:\\users\\hp\\appdata\\roaming\\python\\python311\\site-packages (from tensorflow-intel==2.17.0->tensorflow) (1.16.0)\n",
      "Requirement already satisfied: termcolor>=1.1.0 in c:\\users\\hp\\appdata\\roaming\\python\\python311\\site-packages (from tensorflow-intel==2.17.0->tensorflow) (2.4.0)\n",
      "Requirement already satisfied: typing-extensions>=3.6.6 in c:\\users\\hp\\appdata\\roaming\\python\\python311\\site-packages (from tensorflow-intel==2.17.0->tensorflow) (4.9.0)\n",
      "Requirement already satisfied: wrapt>=1.11.0 in c:\\users\\hp\\appdata\\roaming\\python\\python311\\site-packages (from tensorflow-intel==2.17.0->tensorflow) (1.16.0)\n",
      "Requirement already satisfied: grpcio<2.0,>=1.24.3 in c:\\users\\hp\\appdata\\roaming\\python\\python311\\site-packages (from tensorflow-intel==2.17.0->tensorflow) (1.66.0)\n",
      "Requirement already satisfied: tensorboard<2.18,>=2.17 in c:\\users\\hp\\appdata\\roaming\\python\\python311\\site-packages (from tensorflow-intel==2.17.0->tensorflow) (2.17.1)\n",
      "Requirement already satisfied: keras>=3.2.0 in c:\\users\\hp\\appdata\\roaming\\python\\python311\\site-packages (from tensorflow-intel==2.17.0->tensorflow) (3.5.0)\n",
      "Requirement already satisfied: tensorflow-io-gcs-filesystem>=0.23.1 in c:\\users\\hp\\appdata\\roaming\\python\\python311\\site-packages (from tensorflow-intel==2.17.0->tensorflow) (0.31.0)\n",
      "Requirement already satisfied: numpy<2.0.0,>=1.23.5 in c:\\users\\hp\\appdata\\roaming\\python\\python311\\site-packages (from tensorflow-intel==2.17.0->tensorflow) (1.25.2)\n",
      "Requirement already satisfied: wheel<1.0,>=0.23.0 in c:\\users\\hp\\appdata\\roaming\\python\\python311\\site-packages (from astunparse>=1.6.0->tensorflow-intel==2.17.0->tensorflow) (0.44.0)\n",
      "Requirement already satisfied: rich in c:\\users\\hp\\appdata\\roaming\\python\\python311\\site-packages (from keras>=3.2.0->tensorflow-intel==2.17.0->tensorflow) (13.7.1)\n",
      "Requirement already satisfied: namex in c:\\users\\hp\\appdata\\roaming\\python\\python311\\site-packages (from keras>=3.2.0->tensorflow-intel==2.17.0->tensorflow) (0.0.8)\n",
      "Requirement already satisfied: optree in c:\\users\\hp\\appdata\\roaming\\python\\python311\\site-packages (from keras>=3.2.0->tensorflow-intel==2.17.0->tensorflow) (0.12.1)\n",
      "Requirement already satisfied: charset-normalizer<4,>=2 in c:\\users\\hp\\appdata\\roaming\\python\\python311\\site-packages (from requests<3,>=2.21.0->tensorflow-intel==2.17.0->tensorflow) (3.3.2)\n",
      "Requirement already satisfied: idna<4,>=2.5 in c:\\users\\hp\\appdata\\roaming\\python\\python311\\site-packages (from requests<3,>=2.21.0->tensorflow-intel==2.17.0->tensorflow) (3.6)\n",
      "Requirement already satisfied: urllib3<3,>=1.21.1 in c:\\users\\hp\\appdata\\roaming\\python\\python311\\site-packages (from requests<3,>=2.21.0->tensorflow-intel==2.17.0->tensorflow) (2.1.0)\n",
      "Requirement already satisfied: certifi>=2017.4.17 in c:\\users\\hp\\appdata\\roaming\\python\\python311\\site-packages (from requests<3,>=2.21.0->tensorflow-intel==2.17.0->tensorflow) (2023.11.17)\n",
      "Requirement already satisfied: markdown>=2.6.8 in c:\\users\\hp\\appdata\\roaming\\python\\python311\\site-packages (from tensorboard<2.18,>=2.17->tensorflow-intel==2.17.0->tensorflow) (3.7)\n",
      "Requirement already satisfied: tensorboard-data-server<0.8.0,>=0.7.0 in c:\\users\\hp\\appdata\\roaming\\python\\python311\\site-packages (from tensorboard<2.18,>=2.17->tensorflow-intel==2.17.0->tensorflow) (0.7.2)\n",
      "Requirement already satisfied: werkzeug>=1.0.1 in c:\\users\\hp\\appdata\\roaming\\python\\python311\\site-packages (from tensorboard<2.18,>=2.17->tensorflow-intel==2.17.0->tensorflow) (3.0.1)\n",
      "Requirement already satisfied: MarkupSafe>=2.1.1 in c:\\users\\hp\\appdata\\roaming\\python\\python311\\site-packages (from werkzeug>=1.0.1->tensorboard<2.18,>=2.17->tensorflow-intel==2.17.0->tensorflow) (2.1.3)\n",
      "Requirement already satisfied: markdown-it-py>=2.2.0 in c:\\users\\hp\\appdata\\roaming\\python\\python311\\site-packages (from rich->keras>=3.2.0->tensorflow-intel==2.17.0->tensorflow) (3.0.0)\n",
      "Requirement already satisfied: pygments<3.0.0,>=2.13.0 in c:\\users\\hp\\appdata\\roaming\\python\\python311\\site-packages (from rich->keras>=3.2.0->tensorflow-intel==2.17.0->tensorflow) (2.17.2)\n",
      "Requirement already satisfied: mdurl~=0.1 in c:\\users\\hp\\appdata\\roaming\\python\\python311\\site-packages (from markdown-it-py>=2.2.0->rich->keras>=3.2.0->tensorflow-intel==2.17.0->tensorflow) (0.1.2)\n"
     ]
    },
    {
     "name": "stderr",
     "output_type": "stream",
     "text": [
      "DEPRECATION: Loading egg at c:\\program files\\python311\\lib\\site-packages\\vboxapi-1.0-py3.11.egg is deprecated. pip 24.3 will enforce this behaviour change. A possible replacement is to use pip for package installation.. Discussion can be found at https://github.com/pypa/pip/issues/12330\n",
      "\n",
      "[notice] A new release of pip is available: 23.3.2 -> 24.2\n",
      "[notice] To update, run: python.exe -m pip install --upgrade pip\n"
     ]
    }
   ],
   "source": [
    "!pip install tensorflow"
   ]
  },
  {
   "cell_type": "code",
   "execution_count": 36,
   "metadata": {},
   "outputs": [],
   "source": [
    "from keras.models import Sequential\n",
    "from keras.layers import Dense"
   ]
  },
  {
   "cell_type": "code",
   "execution_count": 38,
   "metadata": {},
   "outputs": [
    {
     "name": "stderr",
     "output_type": "stream",
     "text": [
      "C:\\Users\\HP\\AppData\\Roaming\\Python\\Python311\\site-packages\\keras\\src\\layers\\core\\dense.py:87: UserWarning: Do not pass an `input_shape`/`input_dim` argument to a layer. When using Sequential models, prefer using an `Input(shape)` object as the first layer in the model instead.\n",
      "  super().__init__(activity_regularizer=activity_regularizer, **kwargs)\n"
     ]
    }
   ],
   "source": [
    "model=Sequential()\n",
    "\n",
    "model.add(Dense(4,input_dim=4,activation='relu'))\n",
    "model.add(Dense(8,activation='relu'))\n",
    "model.add(Dense(1,activation='sigmoid'))"
   ]
  },
  {
   "cell_type": "code",
   "execution_count": 39,
   "metadata": {},
   "outputs": [],
   "source": [
    "model.compile(loss='binary_crossentropy',optimizer='adam',metrics=['accuracy'])"
   ]
  },
  {
   "cell_type": "code",
   "execution_count": 40,
   "metadata": {},
   "outputs": [
    {
     "name": "stdout",
     "output_type": "stream",
     "text": [
      "Epoch 1/50\n",
      "30/30 - 1s - 46ms/step - accuracy: 0.5552 - loss: 0.6831\n",
      "Epoch 2/50\n",
      "30/30 - 0s - 3ms/step - accuracy: 0.5552 - loss: 0.6747\n",
      "Epoch 3/50\n",
      "30/30 - 0s - 4ms/step - accuracy: 0.5552 - loss: 0.6688\n",
      "Epoch 4/50\n",
      "30/30 - 0s - 3ms/step - accuracy: 0.5552 - loss: 0.6634\n",
      "Epoch 5/50\n",
      "30/30 - 0s - 3ms/step - accuracy: 0.5552 - loss: 0.6584\n",
      "Epoch 6/50\n",
      "30/30 - 0s - 2ms/step - accuracy: 0.5552 - loss: 0.6531\n",
      "Epoch 7/50\n",
      "30/30 - 0s - 2ms/step - accuracy: 0.5552 - loss: 0.6475\n",
      "Epoch 8/50\n",
      "30/30 - 0s - 2ms/step - accuracy: 0.5646 - loss: 0.6413\n",
      "Epoch 9/50\n",
      "30/30 - 0s - 2ms/step - accuracy: 0.5708 - loss: 0.6346\n",
      "Epoch 10/50\n",
      "30/30 - 0s - 4ms/step - accuracy: 0.5865 - loss: 0.6265\n",
      "Epoch 11/50\n",
      "30/30 - 0s - 2ms/step - accuracy: 0.6219 - loss: 0.6159\n",
      "Epoch 12/50\n",
      "30/30 - 0s - 3ms/step - accuracy: 0.6979 - loss: 0.5921\n",
      "Epoch 13/50\n",
      "30/30 - 0s - 2ms/step - accuracy: 0.7802 - loss: 0.5594\n",
      "Epoch 14/50\n",
      "30/30 - 0s - 2ms/step - accuracy: 0.7896 - loss: 0.5353\n",
      "Epoch 15/50\n",
      "30/30 - 0s - 3ms/step - accuracy: 0.7937 - loss: 0.5155\n",
      "Epoch 16/50\n",
      "30/30 - 0s - 3ms/step - accuracy: 0.8062 - loss: 0.4971\n",
      "Epoch 17/50\n",
      "30/30 - 0s - 3ms/step - accuracy: 0.8104 - loss: 0.4792\n",
      "Epoch 18/50\n",
      "30/30 - 0s - 2ms/step - accuracy: 0.8292 - loss: 0.4627\n",
      "Epoch 19/50\n",
      "30/30 - 0s - 3ms/step - accuracy: 0.8333 - loss: 0.4469\n",
      "Epoch 20/50\n",
      "30/30 - 0s - 2ms/step - accuracy: 0.8490 - loss: 0.4321\n",
      "Epoch 21/50\n",
      "30/30 - 0s - 2ms/step - accuracy: 0.8531 - loss: 0.4184\n",
      "Epoch 22/50\n",
      "30/30 - 0s - 3ms/step - accuracy: 0.8708 - loss: 0.4042\n",
      "Epoch 23/50\n",
      "30/30 - 0s - 5ms/step - accuracy: 0.8646 - loss: 0.3902\n",
      "Epoch 24/50\n",
      "30/30 - 0s - 2ms/step - accuracy: 0.8792 - loss: 0.3773\n",
      "Epoch 25/50\n",
      "30/30 - 0s - 2ms/step - accuracy: 0.8729 - loss: 0.3651\n",
      "Epoch 26/50\n",
      "30/30 - 0s - 3ms/step - accuracy: 0.8865 - loss: 0.3523\n",
      "Epoch 27/50\n",
      "30/30 - 0s - 3ms/step - accuracy: 0.8885 - loss: 0.3406\n",
      "Epoch 28/50\n",
      "30/30 - 0s - 2ms/step - accuracy: 0.8969 - loss: 0.3288\n",
      "Epoch 29/50\n",
      "30/30 - 0s - 3ms/step - accuracy: 0.8990 - loss: 0.3175\n",
      "Epoch 30/50\n",
      "30/30 - 0s - 3ms/step - accuracy: 0.9083 - loss: 0.3064\n",
      "Epoch 31/50\n",
      "30/30 - 0s - 5ms/step - accuracy: 0.9042 - loss: 0.2961\n",
      "Epoch 32/50\n",
      "30/30 - 0s - 3ms/step - accuracy: 0.9146 - loss: 0.2860\n",
      "Epoch 33/50\n",
      "30/30 - 0s - 3ms/step - accuracy: 0.9167 - loss: 0.2755\n",
      "Epoch 34/50\n",
      "30/30 - 0s - 3ms/step - accuracy: 0.9260 - loss: 0.2662\n",
      "Epoch 35/50\n",
      "30/30 - 0s - 3ms/step - accuracy: 0.9281 - loss: 0.2570\n",
      "Epoch 36/50\n",
      "30/30 - 0s - 4ms/step - accuracy: 0.9333 - loss: 0.2479\n",
      "Epoch 37/50\n",
      "30/30 - 0s - 6ms/step - accuracy: 0.9281 - loss: 0.2404\n",
      "Epoch 38/50\n",
      "30/30 - 0s - 3ms/step - accuracy: 0.9344 - loss: 0.2318\n",
      "Epoch 39/50\n",
      "30/30 - 0s - 2ms/step - accuracy: 0.9396 - loss: 0.2242\n",
      "Epoch 40/50\n",
      "30/30 - 0s - 6ms/step - accuracy: 0.9375 - loss: 0.2166\n",
      "Epoch 41/50\n",
      "30/30 - 0s - 3ms/step - accuracy: 0.9438 - loss: 0.2098\n",
      "Epoch 42/50\n",
      "30/30 - 0s - 3ms/step - accuracy: 0.9406 - loss: 0.2032\n",
      "Epoch 43/50\n",
      "30/30 - 0s - 3ms/step - accuracy: 0.9438 - loss: 0.1967\n",
      "Epoch 44/50\n",
      "30/30 - 0s - 4ms/step - accuracy: 0.9448 - loss: 0.1905\n",
      "Epoch 45/50\n",
      "30/30 - 0s - 4ms/step - accuracy: 0.9469 - loss: 0.1850\n",
      "Epoch 46/50\n",
      "30/30 - 0s - 2ms/step - accuracy: 0.9479 - loss: 0.1789\n",
      "Epoch 47/50\n",
      "30/30 - 0s - 3ms/step - accuracy: 0.9479 - loss: 0.1738\n",
      "Epoch 48/50\n",
      "30/30 - 0s - 2ms/step - accuracy: 0.9500 - loss: 0.1687\n",
      "Epoch 49/50\n",
      "30/30 - 0s - 2ms/step - accuracy: 0.9510 - loss: 0.1640\n",
      "Epoch 50/50\n",
      "30/30 - 0s - 3ms/step - accuracy: 0.9510 - loss: 0.1592\n"
     ]
    },
    {
     "data": {
      "text/plain": [
       "<keras.src.callbacks.history.History at 0x1e19279cd90>"
      ]
     },
     "execution_count": 40,
     "metadata": {},
     "output_type": "execute_result"
    }
   ],
   "source": [
    "model.fit(scaled_X_train,y_train,epochs=50,verbose=2)"
   ]
  },
  {
   "cell_type": "code",
   "execution_count": 43,
   "metadata": {},
   "outputs": [
    {
     "data": {
      "text/plain": [
       "array([[0.62098955, 0.75284662, 0.21900753, 0.5730998 ],\n",
       "       [0.48778602, 0.82175665, 0.09174727, 0.56211079],\n",
       "       [0.51158363, 0.77924916, 0.13830875, 0.50392598],\n",
       "       ...,\n",
       "       [0.51963164, 0.38970316, 0.28618249, 0.92478549],\n",
       "       [0.68099575, 0.57607382, 0.35760953, 0.86502189],\n",
       "       [0.72424262, 0.73286884, 0.13069728, 0.73596217]])"
      ]
     },
     "execution_count": 43,
     "metadata": {},
     "output_type": "execute_result"
    }
   ],
   "source": [
    "scaled_X_test"
   ]
  },
  {
   "cell_type": "code",
   "execution_count": 45,
   "metadata": {},
   "outputs": [
    {
     "name": "stdout",
     "output_type": "stream",
     "text": [
      "\u001b[1m13/13\u001b[0m \u001b[32m━━━━━━━━━━━━━━━━━━━━\u001b[0m\u001b[37m\u001b[0m \u001b[1m0s\u001b[0m 4ms/step\n",
      "[0 0 0 0 0 0 0 0 0 0 0 0 0 0 0 0 0 0 0 0 0 0 0 0 0 0 0 0 0 0 0 0 0 0 0 0 0\n",
      " 0 0 0 0 0 0 0 0 0 0 0 0 0 0 0 0 0 0 0 0 0 0 0 0 0 0 0 0 0 0 0 0 0 0 0 0 0\n",
      " 0 0 0 0 0 0 0 0 0 0 0 0 0 0 0 0 0 0 0 0 0 0 0 0 0 0 0 0 0 0 0 0 0 0 0 0 0\n",
      " 0 0 0 0 0 0 0 0 0 0 0 0 0 0 0 0 0 0 0 0 0 0 0 0 0 0 0 0 0 0 0 0 0 0 0 0 0\n",
      " 0 0 0 0 0 0 0 0 0 0 0 0 0 0 0 0 0 0 0 0 0 0 0 0 0 0 0 0 0 0 0 0 0 0 0 0 0\n",
      " 0 0 0 0 0 0 0 0 0 0 0 0 0 0 0 0 0 0 0 0 0 0 0 0 0 0 0 0 0 0 0 0 0 0 0 0 0\n",
      " 0 0 0 0 0 0 0 0 0 0 0 0 0 0 0 0 0 0 0 0 0 0 0 0 0 0 0 0 0 0 0 0 0 0 0 0 0\n",
      " 0 0 0 0 0 0 0 0 0 0 0 0 0 0 0 0 0 0 0 0 0 0 0 0 0 0 0 0 0 0 0 0 0 0 0 0 0\n",
      " 0 0 0 0 0 0 0 0 0 0 0 0 0 0 0 0 0 0 0 0 0 0 0 0 0 0 0 0 0 0 0 0 0 0 0 0 0\n",
      " 0 0 0 0 0 0 0 0 0 0 0 0 0 0 0 0 0 0 0 0 0 0 0 0 0 0 0 0 0 0 0 0 0 0 0 0 0\n",
      " 0 0 0 0 0 0 0 0 0 0 0 0 0 0 0 0 0 0 0 0 0 0 0 0 0 0 0 0 0 0 0 0 0 0 0 0 0\n",
      " 0 0 0 0 0]\n"
     ]
    }
   ],
   "source": [
    "import numpy as np\n",
    "\n",
    "# Use model.predict() and then take the class with the highest probability\n",
    "predictions = model.predict(scaled_X_test)\n",
    "predicted_classes = np.argmax(predictions, axis=1)  # Returns the index of the highest probability\n",
    "\n",
    "print(predicted_classes)\n"
   ]
  },
  {
   "cell_type": "code",
   "execution_count": 46,
   "metadata": {},
   "outputs": [
    {
     "data": {
      "text/plain": [
       "['loss', 'compile_metrics']"
      ]
     },
     "execution_count": 46,
     "metadata": {},
     "output_type": "execute_result"
    }
   ],
   "source": [
    "model.metrics_names"
   ]
  },
  {
   "cell_type": "code",
   "execution_count": 47,
   "metadata": {},
   "outputs": [],
   "source": [
    "from sklearn.metrics import confusion_matrix,classification_report"
   ]
  },
  {
   "cell_type": "code",
   "execution_count": 49,
   "metadata": {},
   "outputs": [
    {
     "name": "stdout",
     "output_type": "stream",
     "text": [
      "\u001b[1m13/13\u001b[0m \u001b[32m━━━━━━━━━━━━━━━━━━━━\u001b[0m\u001b[37m\u001b[0m \u001b[1m0s\u001b[0m 1ms/step \n"
     ]
    }
   ],
   "source": [
    "predictions=model.predict(scaled_X_test)"
   ]
  },
  {
   "cell_type": "code",
   "execution_count": 50,
   "metadata": {},
   "outputs": [
    {
     "data": {
      "text/plain": [
       "array([[229,   0],\n",
       "       [183,   0]], dtype=int64)"
      ]
     },
     "execution_count": 50,
     "metadata": {},
     "output_type": "execute_result"
    }
   ],
   "source": [
    "confusion_matrix(y_test,predicted_classes)"
   ]
  },
  {
   "cell_type": "code",
   "execution_count": 52,
   "metadata": {},
   "outputs": [
    {
     "ename": "ValueError",
     "evalue": "Classification metrics can't handle a mix of binary and continuous targets",
     "output_type": "error",
     "traceback": [
      "\u001b[1;31m---------------------------------------------------------------------------\u001b[0m",
      "\u001b[1;31mValueError\u001b[0m                                Traceback (most recent call last)",
      "Cell \u001b[1;32mIn[52], line 1\u001b[0m\n\u001b[1;32m----> 1\u001b[0m \u001b[38;5;28mprint\u001b[39m(\u001b[43mclassification_report\u001b[49m\u001b[43m(\u001b[49m\u001b[43my_test\u001b[49m\u001b[43m,\u001b[49m\u001b[43mpredictions\u001b[49m\u001b[43m)\u001b[49m)\n",
      "File \u001b[1;32m~\\AppData\\Roaming\\Python\\Python311\\site-packages\\sklearn\\metrics\\_classification.py:2310\u001b[0m, in \u001b[0;36mclassification_report\u001b[1;34m(y_true, y_pred, labels, target_names, sample_weight, digits, output_dict, zero_division)\u001b[0m\n\u001b[0;32m   2195\u001b[0m \u001b[38;5;28;01mdef\u001b[39;00m \u001b[38;5;21mclassification_report\u001b[39m(\n\u001b[0;32m   2196\u001b[0m     y_true,\n\u001b[0;32m   2197\u001b[0m     y_pred,\n\u001b[1;32m   (...)\u001b[0m\n\u001b[0;32m   2204\u001b[0m     zero_division\u001b[38;5;241m=\u001b[39m\u001b[38;5;124m\"\u001b[39m\u001b[38;5;124mwarn\u001b[39m\u001b[38;5;124m\"\u001b[39m,\n\u001b[0;32m   2205\u001b[0m ):\n\u001b[0;32m   2206\u001b[0m \u001b[38;5;250m    \u001b[39m\u001b[38;5;124;03m\"\"\"Build a text report showing the main classification metrics.\u001b[39;00m\n\u001b[0;32m   2207\u001b[0m \n\u001b[0;32m   2208\u001b[0m \u001b[38;5;124;03m    Read more in the :ref:`User Guide <classification_report>`.\u001b[39;00m\n\u001b[1;32m   (...)\u001b[0m\n\u001b[0;32m   2307\u001b[0m \u001b[38;5;124;03m    <BLANKLINE>\u001b[39;00m\n\u001b[0;32m   2308\u001b[0m \u001b[38;5;124;03m    \"\"\"\u001b[39;00m\n\u001b[1;32m-> 2310\u001b[0m     y_type, y_true, y_pred \u001b[38;5;241m=\u001b[39m \u001b[43m_check_targets\u001b[49m\u001b[43m(\u001b[49m\u001b[43my_true\u001b[49m\u001b[43m,\u001b[49m\u001b[43m \u001b[49m\u001b[43my_pred\u001b[49m\u001b[43m)\u001b[49m\n\u001b[0;32m   2312\u001b[0m     \u001b[38;5;28;01mif\u001b[39;00m labels \u001b[38;5;129;01mis\u001b[39;00m \u001b[38;5;28;01mNone\u001b[39;00m:\n\u001b[0;32m   2313\u001b[0m         labels \u001b[38;5;241m=\u001b[39m unique_labels(y_true, y_pred)\n",
      "File \u001b[1;32m~\\AppData\\Roaming\\Python\\Python311\\site-packages\\sklearn\\metrics\\_classification.py:95\u001b[0m, in \u001b[0;36m_check_targets\u001b[1;34m(y_true, y_pred)\u001b[0m\n\u001b[0;32m     92\u001b[0m     y_type \u001b[38;5;241m=\u001b[39m {\u001b[38;5;124m\"\u001b[39m\u001b[38;5;124mmulticlass\u001b[39m\u001b[38;5;124m\"\u001b[39m}\n\u001b[0;32m     94\u001b[0m \u001b[38;5;28;01mif\u001b[39;00m \u001b[38;5;28mlen\u001b[39m(y_type) \u001b[38;5;241m>\u001b[39m \u001b[38;5;241m1\u001b[39m:\n\u001b[1;32m---> 95\u001b[0m     \u001b[38;5;28;01mraise\u001b[39;00m \u001b[38;5;167;01mValueError\u001b[39;00m(\n\u001b[0;32m     96\u001b[0m         \u001b[38;5;124m\"\u001b[39m\u001b[38;5;124mClassification metrics can\u001b[39m\u001b[38;5;124m'\u001b[39m\u001b[38;5;124mt handle a mix of \u001b[39m\u001b[38;5;132;01m{0}\u001b[39;00m\u001b[38;5;124m and \u001b[39m\u001b[38;5;132;01m{1}\u001b[39;00m\u001b[38;5;124m targets\u001b[39m\u001b[38;5;124m\"\u001b[39m\u001b[38;5;241m.\u001b[39mformat(\n\u001b[0;32m     97\u001b[0m             type_true, type_pred\n\u001b[0;32m     98\u001b[0m         )\n\u001b[0;32m     99\u001b[0m     )\n\u001b[0;32m    101\u001b[0m \u001b[38;5;66;03m# We can't have more than one value on y_type => The set is no more needed\u001b[39;00m\n\u001b[0;32m    102\u001b[0m y_type \u001b[38;5;241m=\u001b[39m y_type\u001b[38;5;241m.\u001b[39mpop()\n",
      "\u001b[1;31mValueError\u001b[0m: Classification metrics can't handle a mix of binary and continuous targets"
     ]
    }
   ],
   "source": [
    "print(classification_report(y_test,predictions))"
   ]
  },
  {
   "cell_type": "code",
   "execution_count": 53,
   "metadata": {},
   "outputs": [
    {
     "name": "stderr",
     "output_type": "stream",
     "text": [
      "WARNING:absl:You are saving your model as an HDF5 file via `model.save()` or `keras.saving.save_model(model)`. This file format is considered legacy. We recommend using instead the native Keras format, e.g. `model.save('my_model.keras')` or `keras.saving.save_model(model, 'my_model.keras')`. \n"
     ]
    }
   ],
   "source": [
    "model.save('mymodel.h5')"
   ]
  },
  {
   "cell_type": "code",
   "execution_count": 54,
   "metadata": {},
   "outputs": [],
   "source": [
    "from keras.models import load_model"
   ]
  },
  {
   "cell_type": "code",
   "execution_count": 55,
   "metadata": {},
   "outputs": [
    {
     "name": "stderr",
     "output_type": "stream",
     "text": [
      "WARNING:absl:Compiled the loaded model, but the compiled metrics have yet to be built. `model.compile_metrics` will be empty until you train or evaluate the model.\n"
     ]
    }
   ],
   "source": [
    "newmodel=load_model('mymodel.h5')"
   ]
  },
  {
   "cell_type": "code",
   "execution_count": 56,
   "metadata": {},
   "outputs": [
    {
     "name": "stdout",
     "output_type": "stream",
     "text": [
      "\u001b[1m13/13\u001b[0m \u001b[32m━━━━━━━━━━━━━━━━━━━━\u001b[0m\u001b[37m\u001b[0m \u001b[1m0s\u001b[0m 5ms/step\n"
     ]
    },
    {
     "data": {
      "text/plain": [
       "array([[0.06003527],\n",
       "       [0.47054327],\n",
       "       [0.2942357 ],\n",
       "       [0.07744654],\n",
       "       [0.05295437],\n",
       "       [0.02620121],\n",
       "       [0.20608775],\n",
       "       [0.01196012],\n",
       "       [0.04566819],\n",
       "       [0.1383387 ],\n",
       "       [0.5574671 ],\n",
       "       [0.8863345 ],\n",
       "       [0.17710724],\n",
       "       [0.8360245 ],\n",
       "       [0.605271  ],\n",
       "       [0.30649698],\n",
       "       [0.9235195 ],\n",
       "       [0.93098366],\n",
       "       [0.89358354],\n",
       "       [0.8603027 ],\n",
       "       [0.02881108],\n",
       "       [0.08766232],\n",
       "       [0.8779049 ],\n",
       "       [0.02024198],\n",
       "       [0.97925717],\n",
       "       [0.02484692],\n",
       "       [0.01362213],\n",
       "       [0.88132167],\n",
       "       [0.00164539],\n",
       "       [0.00343053],\n",
       "       [0.77195317],\n",
       "       [0.11654175],\n",
       "       [0.17881525],\n",
       "       [0.97427726],\n",
       "       [0.96768785],\n",
       "       [0.01088921],\n",
       "       [0.52695274],\n",
       "       [0.8234452 ],\n",
       "       [0.9015495 ],\n",
       "       [0.0995913 ],\n",
       "       [0.06274305],\n",
       "       [0.7658559 ],\n",
       "       [0.8263705 ],\n",
       "       [0.03596996],\n",
       "       [0.9763323 ],\n",
       "       [0.8809889 ],\n",
       "       [0.9557966 ],\n",
       "       [0.04294665],\n",
       "       [0.04788999],\n",
       "       [0.36304408],\n",
       "       [0.04452001],\n",
       "       [0.01191908],\n",
       "       [0.09204599],\n",
       "       [0.01795293],\n",
       "       [0.33948264],\n",
       "       [0.7743516 ],\n",
       "       [0.12236316],\n",
       "       [0.00933497],\n",
       "       [0.02437297],\n",
       "       [0.01471401],\n",
       "       [0.9512864 ],\n",
       "       [0.06140783],\n",
       "       [0.32210976],\n",
       "       [0.00758704],\n",
       "       [0.09997987],\n",
       "       [0.01094095],\n",
       "       [0.03320776],\n",
       "       [0.11680616],\n",
       "       [0.57797015],\n",
       "       [0.2973022 ],\n",
       "       [0.856712  ],\n",
       "       [0.02668273],\n",
       "       [0.8113923 ],\n",
       "       [0.0046678 ],\n",
       "       [0.798466  ],\n",
       "       [0.4832817 ],\n",
       "       [0.03857111],\n",
       "       [0.8890848 ],\n",
       "       [0.9437023 ],\n",
       "       [0.72388136],\n",
       "       [0.69899964],\n",
       "       [0.2502825 ],\n",
       "       [0.4382355 ],\n",
       "       [0.02495883],\n",
       "       [0.1084586 ],\n",
       "       [0.00392856],\n",
       "       [0.05302357],\n",
       "       [0.9782195 ],\n",
       "       [0.20735838],\n",
       "       [0.10596281],\n",
       "       [0.02657307],\n",
       "       [0.04093283],\n",
       "       [0.741024  ],\n",
       "       [0.815182  ],\n",
       "       [0.04334477],\n",
       "       [0.9485024 ],\n",
       "       [0.9781308 ],\n",
       "       [0.13479422],\n",
       "       [0.02811191],\n",
       "       [0.13037248],\n",
       "       [0.94770414],\n",
       "       [0.02991492],\n",
       "       [0.21589142],\n",
       "       [0.08392645],\n",
       "       [0.97483957],\n",
       "       [0.01266657],\n",
       "       [0.06634082],\n",
       "       [0.4171354 ],\n",
       "       [0.9226737 ],\n",
       "       [0.8851043 ],\n",
       "       [0.93210566],\n",
       "       [0.7038251 ],\n",
       "       [0.01498789],\n",
       "       [0.96998733],\n",
       "       [0.86089957],\n",
       "       [0.9638646 ],\n",
       "       [0.00566131],\n",
       "       [0.969759  ],\n",
       "       [0.9238481 ],\n",
       "       [0.02331213],\n",
       "       [0.8812172 ],\n",
       "       [0.09459776],\n",
       "       [0.6263534 ],\n",
       "       [0.02060399],\n",
       "       [0.15135871],\n",
       "       [0.18263835],\n",
       "       [0.9518752 ],\n",
       "       [0.8132173 ],\n",
       "       [0.12581497],\n",
       "       [0.91348964],\n",
       "       [0.96951556],\n",
       "       [0.09789562],\n",
       "       [0.10886291],\n",
       "       [0.0471503 ],\n",
       "       [0.0051245 ],\n",
       "       [0.07724702],\n",
       "       [0.90891045],\n",
       "       [0.00392931],\n",
       "       [0.14646667],\n",
       "       [0.81188625],\n",
       "       [0.04469276],\n",
       "       [0.05140789],\n",
       "       [0.89925706],\n",
       "       [0.03433817],\n",
       "       [0.63116837],\n",
       "       [0.18336084],\n",
       "       [0.2845393 ],\n",
       "       [0.48707563],\n",
       "       [0.5802784 ],\n",
       "       [0.03231663],\n",
       "       [0.49503815],\n",
       "       [0.88972574],\n",
       "       [0.9126955 ],\n",
       "       [0.00274679],\n",
       "       [0.7285111 ],\n",
       "       [0.01577485],\n",
       "       [0.77504885],\n",
       "       [0.15148048],\n",
       "       [0.11579599],\n",
       "       [0.10556518],\n",
       "       [0.9774313 ],\n",
       "       [0.95241416],\n",
       "       [0.9633359 ],\n",
       "       [0.95901614],\n",
       "       [0.77875835],\n",
       "       [0.03362402],\n",
       "       [0.951251  ],\n",
       "       [0.03587503],\n",
       "       [0.01052366],\n",
       "       [0.05626446],\n",
       "       [0.30842507],\n",
       "       [0.0278049 ],\n",
       "       [0.09339572],\n",
       "       [0.96424603],\n",
       "       [0.04686308],\n",
       "       [0.06161413],\n",
       "       [0.93744475],\n",
       "       [0.97852945],\n",
       "       [0.26192477],\n",
       "       [0.01055633],\n",
       "       [0.11964823],\n",
       "       [0.10644692],\n",
       "       [0.96094894],\n",
       "       [0.06350304],\n",
       "       [0.9419166 ],\n",
       "       [0.05406005],\n",
       "       [0.8352776 ],\n",
       "       [0.89570546],\n",
       "       [0.00959072],\n",
       "       [0.06719472],\n",
       "       [0.94001204],\n",
       "       [0.03627072],\n",
       "       [0.17088355],\n",
       "       [0.9363973 ],\n",
       "       [0.9245627 ],\n",
       "       [0.89496714],\n",
       "       [0.7747201 ],\n",
       "       [0.4754699 ],\n",
       "       [0.5976994 ],\n",
       "       [0.9636106 ],\n",
       "       [0.9680522 ],\n",
       "       [0.9610536 ],\n",
       "       [0.04582819],\n",
       "       [0.11287576],\n",
       "       [0.9413534 ],\n",
       "       [0.9341093 ],\n",
       "       [0.93840826],\n",
       "       [0.67525786],\n",
       "       [0.35621423],\n",
       "       [0.0330111 ],\n",
       "       [0.49995568],\n",
       "       [0.00811476],\n",
       "       [0.17836736],\n",
       "       [0.18125203],\n",
       "       [0.01661766],\n",
       "       [0.00806081],\n",
       "       [0.4832817 ],\n",
       "       [0.1149829 ],\n",
       "       [0.97048265],\n",
       "       [0.90621793],\n",
       "       [0.90374506],\n",
       "       [0.9242394 ],\n",
       "       [0.91961676],\n",
       "       [0.0538506 ],\n",
       "       [0.8483939 ],\n",
       "       [0.01576718],\n",
       "       [0.18771988],\n",
       "       [0.958418  ],\n",
       "       [0.9042293 ],\n",
       "       [0.90389675],\n",
       "       [0.9172551 ],\n",
       "       [0.10912295],\n",
       "       [0.748525  ],\n",
       "       [0.00490554],\n",
       "       [0.8604897 ],\n",
       "       [0.9645656 ],\n",
       "       [0.832597  ],\n",
       "       [0.9551836 ],\n",
       "       [0.0815668 ],\n",
       "       [0.04324489],\n",
       "       [0.26078206],\n",
       "       [0.8574185 ],\n",
       "       [0.03914855],\n",
       "       [0.9650516 ],\n",
       "       [0.898634  ],\n",
       "       [0.95749223],\n",
       "       [0.07131611],\n",
       "       [0.04147286],\n",
       "       [0.02455479],\n",
       "       [0.06090935],\n",
       "       [0.00288803],\n",
       "       [0.0630163 ],\n",
       "       [0.94162905],\n",
       "       [0.291829  ],\n",
       "       [0.14422859],\n",
       "       [0.04440038],\n",
       "       [0.02272709],\n",
       "       [0.03985102],\n",
       "       [0.9400149 ],\n",
       "       [0.9290051 ],\n",
       "       [0.0510753 ],\n",
       "       [0.0912184 ],\n",
       "       [0.02556702],\n",
       "       [0.9480585 ],\n",
       "       [0.79245424],\n",
       "       [0.03492865],\n",
       "       [0.8791212 ],\n",
       "       [0.06274776],\n",
       "       [0.97715807],\n",
       "       [0.86638594],\n",
       "       [0.9538558 ],\n",
       "       [0.6685059 ],\n",
       "       [0.06008533],\n",
       "       [0.4705376 ],\n",
       "       [0.00908181],\n",
       "       [0.06055185],\n",
       "       [0.05456489],\n",
       "       [0.9387858 ],\n",
       "       [0.01232103],\n",
       "       [0.22185142],\n",
       "       [0.96645606],\n",
       "       [0.00688336],\n",
       "       [0.9599375 ],\n",
       "       [0.00919781],\n",
       "       [0.06719971],\n",
       "       [0.91539377],\n",
       "       [0.00841934],\n",
       "       [0.0886109 ],\n",
       "       [0.01681488],\n",
       "       [0.24164681],\n",
       "       [0.03714355],\n",
       "       [0.9797974 ],\n",
       "       [0.9765876 ],\n",
       "       [0.05746826],\n",
       "       [0.96567756],\n",
       "       [0.05919274],\n",
       "       [0.8264532 ],\n",
       "       [0.9643334 ],\n",
       "       [0.00477677],\n",
       "       [0.49995145],\n",
       "       [0.20143652],\n",
       "       [0.00775376],\n",
       "       [0.04026326],\n",
       "       [0.07221183],\n",
       "       [0.09008463],\n",
       "       [0.89386284],\n",
       "       [0.9691983 ],\n",
       "       [0.93837863],\n",
       "       [0.02989868],\n",
       "       [0.00361928],\n",
       "       [0.8041004 ],\n",
       "       [0.86255985],\n",
       "       [0.02812287],\n",
       "       [0.17978115],\n",
       "       [0.13118716],\n",
       "       [0.00453686],\n",
       "       [0.08200572],\n",
       "       [0.09053313],\n",
       "       [0.96698785],\n",
       "       [0.12448449],\n",
       "       [0.9467831 ],\n",
       "       [0.73569804],\n",
       "       [0.9561445 ],\n",
       "       [0.06786913],\n",
       "       [0.01081074],\n",
       "       [0.03144493],\n",
       "       [0.00248249],\n",
       "       [0.72624576],\n",
       "       [0.1824566 ],\n",
       "       [0.00340753],\n",
       "       [0.06752755],\n",
       "       [0.09441227],\n",
       "       [0.13695903],\n",
       "       [0.05611036],\n",
       "       [0.20580675],\n",
       "       [0.9630692 ],\n",
       "       [0.14502512],\n",
       "       [0.83638656],\n",
       "       [0.96348965],\n",
       "       [0.75355345],\n",
       "       [0.9299454 ],\n",
       "       [0.02385328],\n",
       "       [0.867072  ],\n",
       "       [0.95540696],\n",
       "       [0.02661916],\n",
       "       [0.90884364],\n",
       "       [0.8517989 ],\n",
       "       [0.03058097],\n",
       "       [0.1130244 ],\n",
       "       [0.5987278 ],\n",
       "       [0.16141693],\n",
       "       [0.02974001],\n",
       "       [0.89262086],\n",
       "       [0.08354446],\n",
       "       [0.9354775 ],\n",
       "       [0.00882877],\n",
       "       [0.90057766],\n",
       "       [0.88235736],\n",
       "       [0.01649786],\n",
       "       [0.02298524],\n",
       "       [0.9250995 ],\n",
       "       [0.11413051],\n",
       "       [0.13010576],\n",
       "       [0.11639535],\n",
       "       [0.00303849],\n",
       "       [0.00474182],\n",
       "       [0.06858357],\n",
       "       [0.9326122 ],\n",
       "       [0.1493562 ],\n",
       "       [0.05969399],\n",
       "       [0.9699917 ],\n",
       "       [0.46959907],\n",
       "       [0.08007856],\n",
       "       [0.27628666],\n",
       "       [0.04083433],\n",
       "       [0.8908976 ],\n",
       "       [0.9177785 ],\n",
       "       [0.04489597],\n",
       "       [0.94109595],\n",
       "       [0.02886233],\n",
       "       [0.96986306],\n",
       "       [0.8599893 ],\n",
       "       [0.7283597 ],\n",
       "       [0.04306265],\n",
       "       [0.87984157],\n",
       "       [0.23074064],\n",
       "       [0.0561501 ],\n",
       "       [0.951311  ],\n",
       "       [0.9149068 ],\n",
       "       [0.01782858],\n",
       "       [0.9234642 ],\n",
       "       [0.07540637],\n",
       "       [0.06354964],\n",
       "       [0.07492357],\n",
       "       [0.967219  ],\n",
       "       [0.91642195],\n",
       "       [0.53878963],\n",
       "       [0.02288762],\n",
       "       [0.17861085],\n",
       "       [0.00459803],\n",
       "       [0.05111383],\n",
       "       [0.90916157],\n",
       "       [0.04773004],\n",
       "       [0.02297729],\n",
       "       [0.9534107 ],\n",
       "       [0.90653574],\n",
       "       [0.85025424],\n",
       "       [0.90603936],\n",
       "       [0.065092  ],\n",
       "       [0.8723724 ],\n",
       "       [0.07716636],\n",
       "       [0.05880688]], dtype=float32)"
      ]
     },
     "execution_count": 56,
     "metadata": {},
     "output_type": "execute_result"
    }
   ],
   "source": [
    "newmodel.predict(scaled_X_test)"
   ]
  }
 ],
 "metadata": {
  "kernelspec": {
   "display_name": "Python 3",
   "language": "python",
   "name": "python3"
  },
  "language_info": {
   "codemirror_mode": {
    "name": "ipython",
    "version": 3
   },
   "file_extension": ".py",
   "mimetype": "text/x-python",
   "name": "python",
   "nbconvert_exporter": "python",
   "pygments_lexer": "ipython3",
   "version": "3.11.4"
  }
 },
 "nbformat": 4,
 "nbformat_minor": 2
}
