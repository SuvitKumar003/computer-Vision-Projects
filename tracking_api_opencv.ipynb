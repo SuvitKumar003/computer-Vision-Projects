{
 "cells": [
  {
   "cell_type": "code",
   "execution_count": 5,
   "metadata": {},
   "outputs": [],
   "source": [
    "import cv2\n"
   ]
  },
  {
   "cell_type": "code",
   "execution_count": 6,
   "metadata": {},
   "outputs": [],
   "source": [
    "def ask_for_tracker():\n",
    "  print(\" select the tracker  API \")\n",
    "  print(\"0 BOOSTING\")\n",
    "  print(\"1 MIL\")\n",
    "  print(\"2 KCF\")\n",
    "  print(\"3 TLD\")\n",
    "  print(\"4 MEDIANFLOW\")\n",
    "  choice = input(\"Please select your tracker: \")\n",
    "  if choice == '0':\n",
    "    tracker = cv2.TrackerBoosting_create()\n",
    "  if choice == '1':\n",
    "    tracker = cv2.TrackerMIL_create()\n",
    "  if choice == '2':\n",
    "    tracker = cv2.TrackerKCF_create()\n",
    "  if choice == '3':\n",
    "    tracker = cv2.TrackerTLD_create()\n",
    "  if choice == '4':\n",
    "    tracker = cv2.TrackerMedianFlow_create()\n",
    "  return tracker\n"
   ]
  },
  {
   "cell_type": "code",
   "execution_count": 7,
   "metadata": {},
   "outputs": [
    {
     "name": "stdout",
     "output_type": "stream",
     "text": [
      " select the tracker  API \n",
      "0 BOOSTING\n",
      "1 MIL\n",
      "2 KCF\n",
      "3 TLD\n",
      "4 MEDIANFLOW\n"
     ]
    }
   ],
   "source": [
    "tracker=ask_for_tracker()"
   ]
  },
  {
   "cell_type": "code",
   "execution_count": 8,
   "metadata": {},
   "outputs": [
    {
     "data": {
      "text/plain": [
       "''"
      ]
     },
     "execution_count": 8,
     "metadata": {},
     "output_type": "execute_result"
    }
   ],
   "source": [
    "str(tracker).split()[0][1:]\n"
   ]
  },
  {
   "cell_type": "code",
   "execution_count": 11,
   "metadata": {},
   "outputs": [
    {
     "name": "stdout",
     "output_type": "stream",
     "text": [
      " select the tracker  API \n",
      "0 BOOSTING\n",
      "1 MIL\n",
      "2 KCF\n",
      "3 TLD\n",
      "4 MEDIANFLOW\n"
     ]
    },
    {
     "ename": "AttributeError",
     "evalue": "module 'cv2' has no attribute 'TrackerTLD_create'",
     "output_type": "error",
     "traceback": [
      "\u001b[1;31m---------------------------------------------------------------------------\u001b[0m",
      "\u001b[1;31mAttributeError\u001b[0m                            Traceback (most recent call last)",
      "Cell \u001b[1;32mIn[11], line 1\u001b[0m\n\u001b[1;32m----> 1\u001b[0m tracker\u001b[38;5;241m=\u001b[39m\u001b[43mask_for_tracker\u001b[49m\u001b[43m(\u001b[49m\u001b[43m)\u001b[49m\n\u001b[0;32m      2\u001b[0m tracker_name\u001b[38;5;241m=\u001b[39m\u001b[38;5;28mstr\u001b[39m(tracker)\u001b[38;5;241m.\u001b[39msplit()[\u001b[38;5;241m0\u001b[39m][\u001b[38;5;241m1\u001b[39m:]\n\u001b[0;32m      4\u001b[0m cap\u001b[38;5;241m=\u001b[39mcv2\u001b[38;5;241m.\u001b[39mVideoCapture(\u001b[38;5;241m0\u001b[39m)\n",
      "Cell \u001b[1;32mIn[6], line 16\u001b[0m, in \u001b[0;36mask_for_tracker\u001b[1;34m()\u001b[0m\n\u001b[0;32m     14\u001b[0m   tracker \u001b[38;5;241m=\u001b[39m cv2\u001b[38;5;241m.\u001b[39mTrackerKCF_create()\n\u001b[0;32m     15\u001b[0m \u001b[38;5;28;01mif\u001b[39;00m choice \u001b[38;5;241m==\u001b[39m \u001b[38;5;124m'\u001b[39m\u001b[38;5;124m3\u001b[39m\u001b[38;5;124m'\u001b[39m:\n\u001b[1;32m---> 16\u001b[0m   tracker \u001b[38;5;241m=\u001b[39m \u001b[43mcv2\u001b[49m\u001b[38;5;241;43m.\u001b[39;49m\u001b[43mTrackerTLD_create\u001b[49m()\n\u001b[0;32m     17\u001b[0m \u001b[38;5;28;01mif\u001b[39;00m choice \u001b[38;5;241m==\u001b[39m \u001b[38;5;124m'\u001b[39m\u001b[38;5;124m4\u001b[39m\u001b[38;5;124m'\u001b[39m:\n\u001b[0;32m     18\u001b[0m   tracker \u001b[38;5;241m=\u001b[39m cv2\u001b[38;5;241m.\u001b[39mTrackerMedianFlow_create()\n",
      "\u001b[1;31mAttributeError\u001b[0m: module 'cv2' has no attribute 'TrackerTLD_create'"
     ]
    }
   ],
   "source": [
    "tracker=ask_for_tracker()\n",
    "tracker_name=str(tracker).split()[0][1:]\n",
    "\n",
    "cap=cv2.VideoCapture(0)\n",
    "\n",
    "ret,frame=cap.read()\n",
    "\n",
    "roi=cv2.selectROI(frame,False)\n",
    "\n",
    "ret=tracker.init(frame,roi)\n",
    "\n",
    "while True:\n",
    "\n",
    "  ret,frame=cap.read()\n",
    "\n",
    "  success,roi=tracker.update(frame)\n",
    "\n",
    "  (x,y,w,h)=tuple(map(init,roi))\n",
    "\n",
    "  if success:\n",
    "    p1=(x,y)\n",
    "    p2=(x+w,y+h)\n",
    "    cv2.rectangle(frame,p1,p2,(0,255,0),3)\n",
    "  else:\n",
    "    cv2.putText(frame,\"fialire to grab the frame\",(100,200),cv2.FONT_HERSHEY_SIMPLEX,1,(25,125,255),3)\n",
    "\n",
    "#cv2.putText(frame,tracker_name,(20,400),cv2.FONT_HERSHEY_SIMPLEX,1,(255,255,0),3)\n",
    "\n",
    "cv2.imshow(tracker_name,frame)\n",
    "k=cv2.waitKey(1) & 0xff\n",
    "if k == 27:\n",
    "    break\n",
    "cap.release()\n",
    "cv2.destroyAllWindows()"
   ]
  }
 ],
 "metadata": {
  "kernelspec": {
   "display_name": "Python 3",
   "language": "python",
   "name": "python3"
  },
  "language_info": {
   "codemirror_mode": {
    "name": "ipython",
    "version": 3
   },
   "file_extension": ".py",
   "mimetype": "text/x-python",
   "name": "python",
   "nbconvert_exporter": "python",
   "pygments_lexer": "ipython3",
   "version": "3.11.4"
  }
 },
 "nbformat": 4,
 "nbformat_minor": 2
}
